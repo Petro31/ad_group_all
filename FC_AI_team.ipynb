{
  "nbformat": 4,
  "nbformat_minor": 0,
  "metadata": {
    "colab": {
      "name": "FC AI- team.ipynb",
      "provenance": [],
      "authorship_tag": "ABX9TyM5jH1EBSkkVLDryaK18THW",
      "include_colab_link": true
    },
    "kernelspec": {
      "name": "python3",
      "display_name": "Python 3"
    }
  },
  "cells": [
    {
      "cell_type": "markdown",
      "metadata": {
        "id": "view-in-github",
        "colab_type": "text"
      },
      "source": [
        "<a href=\"https://colab.research.google.com/github/amartyanambiar/ad_group_all/blob/master/FC_AI_team.ipynb\" target=\"_parent\"><img src=\"https://colab.research.google.com/assets/colab-badge.svg\" alt=\"Open In Colab\"/></a>"
      ]
    },
    {
      "cell_type": "markdown",
      "metadata": {
        "id": "HS9gQYRhpGJ4"
      },
      "source": [
        "# **FC AI**"
      ]
    },
    {
      "cell_type": "code",
      "metadata": {
        "id": "9p2gbC_gpVOv",
        "outputId": "1ea7aa5d-a266-4182-f3cb-dd5f7a913b5d",
        "colab": {
          "base_uri": "https://localhost:8080/",
          "height": 34
        }
      },
      "source": [
        "print('Hello, we shall have a meet soon to discuss where to start from...')"
      ],
      "execution_count": null,
      "outputs": [
        {
          "output_type": "stream",
          "text": [
            "Hello, we shall have a meet soon to discuss where to start from...\n"
          ],
          "name": "stdout"
        }
      ]
    }
  ]
}